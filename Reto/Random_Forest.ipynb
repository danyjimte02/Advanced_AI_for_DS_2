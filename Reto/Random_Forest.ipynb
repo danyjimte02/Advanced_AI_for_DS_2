{
  "cells": [
    {
      "cell_type": "code",
      "execution_count": 36,
      "metadata": {
        "id": "wd70IgD6ISJN"
      },
      "outputs": [],
      "source": [
        "import pandas as pd"
      ]
    },
    {
      "cell_type": "code",
      "execution_count": 37,
      "metadata": {
        "id": "MRwDRxkRISJO"
      },
      "outputs": [],
      "source": [
        "df_entrenamiento = pd.read_csv(\"df_entrenamiento_final (2).csv\")\n",
        "df_prueba = pd.read_csv(\"df_prueba_final (2).csv\")\n"
      ]
    },
    {
      "cell_type": "code",
      "execution_count": 38,
      "metadata": {
        "colab": {
          "base_uri": "https://localhost:8080/"
        },
        "id": "KGvXdg_zISJO",
        "outputId": "18c5c472-2f35-44f4-cbfc-748192098a00"
      },
      "outputs": [
        {
          "output_type": "stream",
          "name": "stdout",
          "text": [
            "Precisión en el conjunto de validación: 0.94\n",
            "\n",
            "Reporte de clasificación en el conjunto de validación:\n",
            "              precision    recall  f1-score   support\n",
            "\n",
            "           0       0.99      0.93      0.96      5178\n",
            "           1       0.82      0.98      0.89      1566\n",
            "\n",
            "    accuracy                           0.94      6744\n",
            "   macro avg       0.90      0.96      0.93      6744\n",
            "weighted avg       0.95      0.94      0.95      6744\n",
            "\n",
            "\n",
            "Matriz de confusión en el conjunto de validación:\n",
            "[[4831  347]\n",
            " [  30 1536]]\n",
            "\n",
            "Precisión en el conjunto de prueba: 0.95\n"
          ]
        }
      ],
      "source": [
        "from sklearn.model_selection import train_test_split\n",
        "from sklearn.ensemble import RandomForestClassifier\n",
        "from sklearn.metrics import classification_report, confusion_matrix, accuracy_score\n",
        "import pandas as pd\n",
        "from sklearn.linear_model import LogisticRegression\n",
        "\n",
        "# Variables categóricas y numéricas\n",
        "categorical_features = ['categoria_instalaciones', 'Flavor', 'sub_canal_comercial',\n",
        "                        'ProductType', 'Returnability', 'Size', 'Container', 'MLSize']\n",
        "\n",
        "# Seleccionar las columnas de entrada y salida para entrenamiento y prueba\n",
        "X_train_full = df_entrenamiento[['categoria_instalaciones', 'pc_comercial_300m', 'Flavor', 'MLSize',\n",
        "                                 'pc_negocios_300m', 'pc_turismo_300m', 'gasto_promedio_300m',\n",
        "                                 'ingreso_promedio_300m', 'accesibilidad', 'sub_canal_comercial',\n",
        "                                 'ProductType', 'Returnability', 'Size', 'Container',\n",
        "                                 'success_ratio', 'success_ratio_flavor', 'success_ratio_mlsize',\n",
        "                                 'success_ratio_container', 'pob_ab_300m', 'pob_cmas_300m',\n",
        "                                 'pob_c_300m', 'pob_cmen_300m', 'pob_dmas_300m', 'pob_d_300m',\n",
        "                                 'pob_e_300m']]\n",
        "y_train_full = df_entrenamiento['successful']\n",
        "\n",
        "X_test = df_prueba[['categoria_instalaciones', 'pc_comercial_300m', 'Flavor', 'MLSize',\n",
        "                    'pc_negocios_300m', 'pc_turismo_300m', 'gasto_promedio_300m',\n",
        "                    'ingreso_promedio_300m', 'accesibilidad', 'sub_canal_comercial',\n",
        "                    'ProductType', 'Returnability', 'Size', 'Container',\n",
        "                    'success_ratio', 'success_ratio_flavor', 'success_ratio_mlsize',\n",
        "                    'success_ratio_container', 'pob_ab_300m', 'pob_cmas_300m',\n",
        "                    'pob_c_300m', 'pob_cmen_300m', 'pob_dmas_300m', 'pob_d_300m',\n",
        "                    'pob_e_300m']]\n",
        "y_test = df_prueba['successful']\n",
        "\n",
        "# Dividir el conjunto de entrenamiento en entrenamiento y validación\n",
        "X_train, X_val, y_train, y_val = train_test_split(X_train_full, y_train_full, test_size=0.2, random_state=42)\n",
        "\n",
        "# Concatenar para garantizar consistencia en categorías\n",
        "X_combined = pd.concat([X_train, X_val, X_test], axis=0)\n",
        "X_encoded = pd.get_dummies(X_combined, columns=categorical_features, drop_first=True)\n",
        "\n",
        "# Dividir nuevamente en entrenamiento, validación y prueba\n",
        "X_train_encoded = X_encoded.iloc[:len(X_train), :]\n",
        "X_val_encoded = X_encoded.iloc[len(X_train):len(X_train) + len(X_val), :]\n",
        "X_test_encoded = X_encoded.iloc[len(X_train) + len(X_val):, :]\n",
        "\n",
        "# Crear el modelo Random Forest\n",
        "rf_model = RandomForestClassifier(n_estimators=600, random_state=42, class_weight='balanced',min_samples_split=10, min_samples_leaf=4,max_features='sqrt', max_depth=50, bootstrap=True)\n",
        "\n",
        "# Definir el modelo de Regresión Logística\n",
        "#rf_model = LogisticRegression(penalty='l2',C=1.0,solver='lbfgs', max_iter=2000, class_weight='balanced',random_state=42       )\n",
        "\n",
        "# Entrenar el modelo con el conjunto de entrenamiento\n",
        "rf_model.fit(X_train_encoded, y_train)\n",
        "\n",
        "# Evaluar en el conjunto de validación\n",
        "y_val_pred = rf_model.predict(X_val_encoded)\n",
        "val_accuracy = accuracy_score(y_val, y_val_pred)\n",
        "print(f'Precisión en el conjunto de validación: {val_accuracy:.2f}')\n",
        "print(\"\\nReporte de clasificación en el conjunto de validación:\")\n",
        "print(classification_report(y_val, y_val_pred))\n",
        "print(\"\\nMatriz de confusión en el conjunto de validación:\")\n",
        "print(confusion_matrix(y_val, y_val_pred))\n",
        "\n",
        "# Evaluar en el conjunto de prueba (opcional)\n",
        "y_test_pred = rf_model.predict(X_test_encoded)\n",
        "test_accuracy = accuracy_score(y_test, y_test_pred)\n",
        "print(f'\\nPrecisión en el conjunto de prueba: {test_accuracy:.2f}')\n"
      ]
    },
    {
      "cell_type": "code",
      "source": [
        "import seaborn as sns\n",
        "import matplotlib.pyplot as plt\n",
        "\n",
        "import numpy as np\n",
        "from sklearn.metrics import confusion_matrix\n",
        "\n",
        "# Obtener las probabilidades predichas\n",
        "y_pred_prob = rf_model.predict(X_test_encoded)\n",
        "y_pred = (y_pred_prob >= 0.5).astype(int)  # Convertir probabilidades a etiquetas\n",
        "\n",
        "# Crear la matriz de confusión\n",
        "cm = confusion_matrix(y_val, y_val_pred)\n",
        "\n",
        "# Dibujar la matriz de confusión\n",
        "plt.figure(figsize=(8, 6))\n",
        "sns.heatmap(cm, annot=True, fmt=\"d\", cmap=\"Blues\", xticklabels=['0', '1'], yticklabels=['0', '1'])\n",
        "plt.title(\"Confusion Matrix\")\n",
        "plt.ylabel(\"True Label\")\n",
        "plt.xlabel(\"Predicted Label\")\n",
        "plt.show()\n"
      ],
      "metadata": {
        "colab": {
          "base_uri": "https://localhost:8080/",
          "height": 564
        },
        "id": "aQzLMDUqEgvC",
        "outputId": "397478a1-d967-4399-82b8-b1cfb9ee889f"
      },
      "execution_count": 39,
      "outputs": [
        {
          "output_type": "display_data",
          "data": {
            "text/plain": [
              "<Figure size 800x600 with 2 Axes>"
            ],
            "image/png": "[encoded data removed]"
          },
          "metadata": {}
        }
      ]
    },
    {
      "cell_type": "markdown",
      "source": [
        "# Predicciones con Productos Nuevos"
      ],
      "metadata": {
        "id": "qstykSefOyPv"
      }
    },
    {
      "cell_type": "code",
      "source": [
        "# Funciones\n",
        "\n",
        "# Función para calcular el success_rate normalizado para todos los ProductType\n",
        "def calculate_normalized_success_rate(df):\n",
        "    # Calcular el success_rate por ProductType\n",
        "    success_rates = df.groupby('ProductType')['successful'].mean()\n",
        "\n",
        "    # Normalizar entre 0 y 1\n",
        "    min_rate = success_rates.min()\n",
        "    max_rate = success_rates.max()\n",
        "    normalized_rates = (success_rates - min_rate) / (max_rate - min_rate)\n",
        "\n",
        "    return normalized_rates\n",
        "\n",
        "# Función para calcular el success_rate normalizado para todos los Flavor\n",
        "def calculate_normalized_success_rate_flavor(df):\n",
        "    # Calcular el success_rate por ProductType\n",
        "    success_rates = df.groupby('Flavor')['successful'].mean()\n",
        "\n",
        "    # Normalizar entre 0 y 1\n",
        "    min_rate = success_rates.min()\n",
        "    max_rate = success_rates.max()\n",
        "    normalized_rates = (success_rates - min_rate) / (max_rate - min_rate)\n",
        "\n",
        "    return normalized_rates\n",
        "\n",
        "# Función para calcular el success_rate normalizado para todos los MLSize\n",
        "def calculate_normalized_success_rate_MLSize(df):\n",
        "    # Calcular el success_rate por ProductType\n",
        "    success_rates = df.groupby('MLSize')['successful'].mean()\n",
        "\n",
        "    # Normalizar entre 0 y 1\n",
        "    min_rate = success_rates.min()\n",
        "    max_rate = success_rates.max()\n",
        "    normalized_rates = (success_rates - min_rate) / (max_rate - min_rate)\n",
        "\n",
        "    return normalized_rates\n",
        "\n",
        "# Función para calcular el success_rate normalizado para todos los Container\n",
        "def calculate_normalized_success_rate_container(df):\n",
        "    # Calcular el success_rate por ProductType\n",
        "    success_rates = df.groupby('Container')['successful'].mean()\n",
        "\n",
        "    # Normalizar entre 0 y 1\n",
        "    min_rate = success_rates.min()\n",
        "    max_rate = success_rates.max()\n",
        "    normalized_rates = (success_rates - min_rate) / (max_rate - min_rate)\n",
        "\n",
        "    return normalized_rates\n"
      ],
      "metadata": {
        "id": "s3gx2ZPSEoWv"
      },
      "execution_count": 40,
      "outputs": []
    },
    {
      "cell_type": "code",
      "source": [
        "df_combinado = pd.concat([df_entrenamiento, df_prueba], ignore_index = True)\n",
        "df = df_combinado.copy()\n",
        "\n",
        "# Calcular los success_ratio normalizados\n",
        "normalized_success_rates = calculate_normalized_success_rate(df)\n",
        "normalized_success_rates_flavor = calculate_normalized_success_rate_flavor(df)\n",
        "normalized_success_rates_MLSize = calculate_normalized_success_rate_MLSize(df)\n",
        "normalized_success_rates_container = calculate_normalized_success_rate_container(df)\n",
        "# Extraer los valores únicos directamente del DataFrame\n",
        "valid_values = {\n",
        "    'ProductType': df['ProductType'].unique(),\n",
        "    'Flavor': df['Flavor'].unique(),\n",
        "    'Container': df['Container'].unique(),\n",
        "    'Returnability': df['Returnability'].unique(),\n",
        "    'Size': df['Size'].unique()\n",
        "}\n",
        "\n",
        "# Función para validar entradas\n",
        "def validate_input(input_value, valid_set, feature_name):\n",
        "    if input_value not in valid_set:\n",
        "        raise ValueError(f\"Error: {feature_name} '{input_value}' no es válido. Opciones válidas: {list(valid_set)}\")\n",
        "    return input_value\n",
        "\n",
        "# Solicitar las características del nuevo producto con validación\n",
        "product_type_input = validate_input(input(\"ProductType: \"), valid_values['ProductType'], 'ProductType')\n",
        "flavor_input = validate_input(input(\"Flavor: \"), valid_values['Flavor'], 'Flavor')\n",
        "mlsize_input = float(input(\"MLSize: \"))  # Suponer que MLSize no necesita validación\n",
        "container_input = validate_input(input(\"Container: \"), valid_values['Container'], 'Container')\n",
        "returnability_input = validate_input(input(\"Returnability ('Returnable' o 'Non-Returnable'): \"), valid_values['Returnability'], 'Returnability')\n",
        "size_input = validate_input(input(\"Size (e.g., 'FAMILIAR', 'INDIVIDUAL'): \"), valid_values['Size'], 'Size')\n",
        "\n",
        "# Obtener el success_ratio normalizado para el ProductType ingresado\n",
        "success_ratio_calculated = normalized_success_rates.get(product_type_input, 0)\n",
        "success_ratio_calculated_flavor = normalized_success_rates_flavor.get(flavor_input, 0)\n",
        "success_ratio_calculated_mlsize = normalized_success_rates_MLSize.get(mlsize_input, 0)\n",
        "success_ratio_calculated_container = normalized_success_rates_container.get(container_input, 0)\n",
        "\n",
        "# Definir las características del nuevo producto\n",
        "nuevo_producto = {\n",
        "    'ProductType': product_type_input,\n",
        "    'Returnability': returnability_input,\n",
        "    'Size': size_input,\n",
        "    'Container': container_input,\n",
        "    'Flavor': flavor_input,\n",
        "    'MLSize': mlsize_input,\n",
        "    'success_ratio': success_ratio_calculated,\n",
        "    'success_ratio_flavor': success_ratio_calculated_flavor,\n",
        "    'success_ratio_mlsize': success_ratio_calculated_mlsize,\n",
        "    'success_ratio_container': success_ratio_calculated_container\n",
        "}\n",
        "\n",
        "# Resto del código se mantiene igual\n",
        "clientes = df[['CustomerId', 'categoria_instalaciones', 'pc_comercial_300m', 'pc_negocios_300m',\n",
        "               'pc_turismo_300m', 'gasto_promedio_300m', 'ingreso_promedio_300m', 'accesibilidad',\n",
        "               'sub_canal_comercial','pob_ab_300m', 'pob_cmas_300m',\n",
        "                            'pob_c_300m', 'pob_cmen_300m', 'pob_dmas_300m', 'pob_d_300m',\n",
        "                            'pob_e_300m']].drop_duplicates('CustomerId').reset_index(drop=True)\n",
        "\n",
        "# Añadir las características del nuevo producto a cada cliente\n",
        "for feature in ['ProductType', 'Returnability', 'Size', 'Container', 'Flavor', 'MLSize', 'success_ratio','success_ratio_flavor','success_ratio_mlsize',\t'success_ratio_container']:\n",
        "    clientes[feature] = nuevo_producto[feature]\n",
        "\n",
        "X_nuevo = clientes.drop('CustomerId', axis=1)\n",
        "\n",
        "# Transformar variables categóricas en dummies\n",
        "X_nuevo_encoded = pd.get_dummies(X_nuevo, columns=categorical_features, drop_first=True)\n",
        "\n",
        "# Asegurarse de que las columnas coincidan con las del modelo entrenado\n",
        "X_nuevo_encoded = X_nuevo_encoded.reindex(columns=X_encoded.columns, fill_value=0)\n",
        "\n",
        "# Realizar predicciones\n",
        "probabilidades = rf_model.predict_proba(X_nuevo_encoded)[:, 1]\n",
        "\n",
        "# Añadir las probabilidades al dataframe de clientes\n",
        "clientes['probabilidad_exito'] = probabilidades\n",
        "\n",
        "# Generar la lista de clientes ordenados\n",
        "clientes_ordenados = clientes[['CustomerId', 'probabilidad_exito']].sort_values(by='probabilidad_exito', ascending=False)\n",
        "\n",
        "# Mostrar los top N clientes\n",
        "top_N = 10\n",
        "print(f\"\\nTop {top_N} clientes más propensos al éxito del nuevo producto:\")\n",
        "print(clientes_ordenados.head(top_N))\n"
      ],
      "metadata": {
        "colab": {
          "base_uri": "https://localhost:8080/"
        },
        "id": "ifK2fA3TEtNC",
        "outputId": "95159336-cad8-40bd-b394-b2e6c3644e51"
      },
      "execution_count": 41,
      "outputs": [
        {
          "output_type": "stream",
          "name": "stdout",
          "text": [
            "ProductType: BEBIDAS ENERGETICAS\n",
            "Flavor: NARANJA\n",
            "MLSize: 710\n",
            "Container: VIDRIO\n",
            "Returnability ('Returnable' o 'Non-Returnable'): RETORNABLE\n",
            "Size (e.g., 'FAMILIAR', 'INDIVIDUAL'): INDIVIDUAL\n",
            "\n",
            "Top 10 clientes más propensos al éxito del nuevo producto:\n",
            "      CustomerId  probabilidad_exito\n",
            "1345   510407644            0.727581\n",
            "1445   510537084            0.725183\n",
            "1819   510403706            0.725130\n",
            "283    500073052            0.725041\n",
            "1429   510524028            0.724784\n",
            "1962   510801180            0.724392\n",
            "656    500277813            0.723836\n",
            "1834   510525855            0.723834\n",
            "1844   510575263            0.722964\n",
            "747    500310652            0.722859\n"
          ]
        }
      ]
    }
  ],
  "metadata": {
    "kernelspec": {
      "display_name": "base",
      "language": "python",
      "name": "python3"
    },
    "language_info": {
      "codemirror_mode": {
        "name": "ipython",
        "version": 3
      },
      "file_extension": ".py",
      "mimetype": "text/x-python",
      "name": "python",
      "nbconvert_exporter": "python",
      "pygments_lexer": "ipython3",
      "version": "3.11.5"
    },
    "colab": {
      "provenance": []
    }
  },
  "nbformat": 4,
  "nbformat_minor": 0
}