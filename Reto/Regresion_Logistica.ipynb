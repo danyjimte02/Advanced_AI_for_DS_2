{
  "cells": [
    {
      "cell_type": "code",
      "execution_count": 1,
      "metadata": {
        "id": "wd70IgD6ISJN"
      },
      "outputs": [],
      "source": [
        "import pandas as pd"
      ]
    },
    {
      "cell_type": "code",
      "execution_count": 2,
      "metadata": {
        "id": "MRwDRxkRISJO"
      },
      "outputs": [],
      "source": [
        "df_entrenamiento = pd.read_csv(\"df_entrenamiento_final (2).csv\")\n",
        "df_prueba = pd.read_csv(\"df_prueba_final (2).csv\")\n"
      ]
    },
    {
      "cell_type": "code",
      "execution_count": 3,
      "metadata": {
        "colab": {
          "base_uri": "https://localhost:8080/"
        },
        "id": "KGvXdg_zISJO",
        "outputId": "ad4c5fd1-d6da-4d14-ae1c-70856fdb5796"
      },
      "outputs": [
        {
          "output_type": "stream",
          "name": "stdout",
          "text": [
            "Precisión en el conjunto de validación: 0.88\n",
            "\n",
            "Reporte de clasificación en el conjunto de validación:\n",
            "              precision    recall  f1-score   support\n",
            "\n",
            "           0       0.98      0.86      0.91      5178\n",
            "           1       0.67      0.93      0.78      1566\n",
            "\n",
            "    accuracy                           0.88      6744\n",
            "   macro avg       0.82      0.90      0.85      6744\n",
            "weighted avg       0.91      0.88      0.88      6744\n",
            "\n",
            "\n",
            "Matriz de confusión en el conjunto de validación:\n",
            "[[4444  734]\n",
            " [ 103 1463]]\n",
            "\n",
            "Precisión en el conjunto de prueba: 0.82\n"
          ]
        },
        {
          "output_type": "stream",
          "name": "stderr",
          "text": [
            "/usr/local/lib/python3.10/dist-packages/sklearn/linear_model/_logistic.py:469: ConvergenceWarning: lbfgs failed to converge (status=1):\n",
            "STOP: TOTAL NO. of ITERATIONS REACHED LIMIT.\n",
            "\n",
            "Increase the number of iterations (max_iter) or scale the data as shown in:\n",
            "    https://scikit-learn.org/stable/modules/preprocessing.html\n",
            "Please also refer to the documentation for alternative solver options:\n",
            "    https://scikit-learn.org/stable/modules/linear_model.html#logistic-regression\n",
            "  n_iter_i = _check_optimize_result(\n"
          ]
        }
      ],
      "source": [
        "from sklearn.model_selection import train_test_split\n",
        "from sklearn.ensemble import RandomForestClassifier\n",
        "from sklearn.metrics import classification_report, confusion_matrix, accuracy_score\n",
        "import pandas as pd\n",
        "from sklearn.linear_model import LogisticRegression\n",
        "\n",
        "# Variables categóricas y numéricas\n",
        "categorical_features = ['categoria_instalaciones', 'Flavor', 'sub_canal_comercial',\n",
        "                        'ProductType', 'Returnability', 'Size', 'Container', 'MLSize']\n",
        "\n",
        "# Seleccionar las columnas de entrada y salida para entrenamiento y prueba\n",
        "X_train_full = df_entrenamiento[['categoria_instalaciones', 'pc_comercial_300m', 'Flavor', 'MLSize',\n",
        "                                 'pc_negocios_300m', 'pc_turismo_300m', 'gasto_promedio_300m',\n",
        "                                 'ingreso_promedio_300m', 'accesibilidad', 'sub_canal_comercial',\n",
        "                                 'ProductType', 'Returnability', 'Size', 'Container',\n",
        "                                 'success_ratio', 'success_ratio_flavor', 'success_ratio_mlsize',\n",
        "                                 'success_ratio_container', 'pob_ab_300m', 'pob_cmas_300m',\n",
        "                                 'pob_c_300m', 'pob_cmen_300m', 'pob_dmas_300m', 'pob_d_300m',\n",
        "                                 'pob_e_300m']]\n",
        "y_train_full = df_entrenamiento['successful']\n",
        "\n",
        "X_test = df_prueba[['categoria_instalaciones', 'pc_comercial_300m', 'Flavor', 'MLSize',\n",
        "                    'pc_negocios_300m', 'pc_turismo_300m', 'gasto_promedio_300m',\n",
        "                    'ingreso_promedio_300m', 'accesibilidad', 'sub_canal_comercial',\n",
        "                    'ProductType', 'Returnability', 'Size', 'Container',\n",
        "                    'success_ratio', 'success_ratio_flavor', 'success_ratio_mlsize',\n",
        "                    'success_ratio_container', 'pob_ab_300m', 'pob_cmas_300m',\n",
        "                    'pob_c_300m', 'pob_cmen_300m', 'pob_dmas_300m', 'pob_d_300m',\n",
        "                    'pob_e_300m']]\n",
        "y_test = df_prueba['successful']\n",
        "\n",
        "# Dividir el conjunto de entrenamiento en entrenamiento y validación\n",
        "X_train, X_val, y_train, y_val = train_test_split(X_train_full, y_train_full, test_size=0.2, random_state=42)\n",
        "\n",
        "# Concatenar para garantizar consistencia en categorías\n",
        "X_combined = pd.concat([X_train, X_val, X_test], axis=0)\n",
        "X_encoded = pd.get_dummies(X_combined, columns=categorical_features, drop_first=True)\n",
        "\n",
        "# Dividir nuevamente en entrenamiento, validación y prueba\n",
        "X_train_encoded = X_encoded.iloc[:len(X_train), :]\n",
        "X_val_encoded = X_encoded.iloc[len(X_train):len(X_train) + len(X_val), :]\n",
        "X_test_encoded = X_encoded.iloc[len(X_train) + len(X_val):, :]\n",
        "\n",
        "# Crear el modelo Random Forest\n",
        "#rf_model = RandomForestClassifier(n_estimators=600, random_state=42, class_weight='balanced',min_samples_split=10, min_samples_leaf=4,max_features='sqrt', max_depth=50, bootstrap=True)\n",
        "\n",
        "# Definir el modelo de Regresión Logística\n",
        "rl_model = LogisticRegression(penalty='l2',C=1.0,solver='lbfgs', max_iter=2000, class_weight='balanced',random_state=42       )\n",
        "\n",
        "# Entrenar el modelo con el conjunto de entrenamiento\n",
        "rl_model.fit(X_train_encoded, y_train)\n",
        "\n",
        "# Evaluar en el conjunto de validación\n",
        "y_val_pred = rl_model.predict(X_val_encoded)\n",
        "val_accuracy = accuracy_score(y_val, y_val_pred)\n",
        "print(f'Precisión en el conjunto de validación: {val_accuracy:.2f}')\n",
        "print(\"\\nReporte de clasificación en el conjunto de validación:\")\n",
        "print(classification_report(y_val, y_val_pred))\n",
        "print(\"\\nMatriz de confusión en el conjunto de validación:\")\n",
        "print(confusion_matrix(y_val, y_val_pred))\n",
        "\n",
        "# Evaluar en el conjunto de prueba (opcional)\n",
        "y_test_pred = rl_model.predict(X_test_encoded)\n",
        "test_accuracy = accuracy_score(y_test, y_test_pred)\n",
        "print(f'\\nPrecisión en el conjunto de prueba: {test_accuracy:.2f}')\n"
      ]
    },
    {
      "cell_type": "code",
      "source": [
        "import seaborn as sns\n",
        "import matplotlib.pyplot as plt\n",
        "\n",
        "import numpy as np\n",
        "from sklearn.metrics import confusion_matrix\n",
        "\n",
        "# Obtener las probabilidades predichas\n",
        "y_pred_prob = rl_model.predict(X_test_encoded)\n",
        "y_pred = (y_pred_prob >= 0.5).astype(int)  # Convertir probabilidades a etiquetas\n",
        "\n",
        "# Crear la matriz de confusión\n",
        "cm = confusion_matrix(y_val, y_val_pred)\n",
        "\n",
        "# Dibujar la matriz de confusión\n",
        "plt.figure(figsize=(8, 6))\n",
        "sns.heatmap(cm, annot=True, fmt=\"d\", cmap=\"Blues\", xticklabels=['0', '1'], yticklabels=['0', '1'])\n",
        "plt.title(\"Confusion Matrix\")\n",
        "plt.ylabel(\"True Label\")\n",
        "plt.xlabel(\"Predicted Label\")\n",
        "plt.show()\n"
      ],
      "metadata": {
        "colab": {
          "base_uri": "https://localhost:8080/",
          "height": 564
        },
        "id": "aQzLMDUqEgvC",
        "outputId": "653619c4-75c9-452f-dbfc-5997c67eb539"
      },
      "execution_count": 4,
      "outputs": [
        {
          "output_type": "display_data",
          "data": {
            "text/plain": [
              "<Figure size 800x600 with 2 Axes>"
            ],
            "image/png": "[encoded data removed]"
          },
          "metadata": {}
        }
      ]
    }
  ],
  "metadata": {
    "kernelspec": {
      "display_name": "base",
      "language": "python",
      "name": "python3"
    },
    "language_info": {
      "codemirror_mode": {
        "name": "ipython",
        "version": 3
      },
      "file_extension": ".py",
      "mimetype": "text/x-python",
      "name": "python",
      "nbconvert_exporter": "python",
      "pygments_lexer": "ipython3",
      "version": "3.11.5"
    },
    "colab": {
      "provenance": []
    }
  },
  "nbformat": 4,
  "nbformat_minor": 0
}